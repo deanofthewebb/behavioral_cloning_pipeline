{
 "cells": [
  {
   "cell_type": "markdown",
   "metadata": {},
   "source": [
    "### Dataset - Load Data\n",
    "\n",
    "Start by importing the simulator data from the training_data directory."
   ]
  },
  {
   "cell_type": "code",
   "execution_count": 1,
   "metadata": {
    "collapsed": false
   },
   "outputs": [],
   "source": [
    "import csv\n",
    "import os\n",
    "import numpy as np\n",
    "\n",
    "def read_csv(filepath, num_features=7, delimiter=';'):\n",
    "    data_array = np.array(np.zeros(shape=num_features), ndmin=2)    \n",
    "    with open(filepath, newline='') as csvfile:\n",
    "        annotations_reader = csv.reader(csvfile, delimiter=delimiter, quotechar='|')\n",
    "        for row in annotations_reader:\n",
    "            data_array = np.vstack((data_array, np.array(row, ndmin=2)))\n",
    "    return data_array[2:]"
   ]
  },
  {
   "cell_type": "code",
   "execution_count": 2,
   "metadata": {
    "collapsed": false
   },
   "outputs": [
    {
     "name": "stdout",
     "output_type": "stream",
     "text": [
      "center_image_paths shape (255,)\n",
      "left_image_paths shape (255,)\n",
      "right_image_paths shape (255,)\n",
      "measurements shape (255,)\n"
     ]
    }
   ],
   "source": [
    "DRIVING_LOG_CSV = 'driving_log.csv'\n",
    "annotations = read_csv(os.path.join('merged_data', DRIVING_LOG_CSV), delimiter=',')\n",
    "center_image_paths, center_measurements = annotations[:,0], annotations[:,3]\n",
    "left_image_paths, right_image_paths = annotations[:,1], annotations[:,2]\n",
    "\n",
    "print('center_image_paths shape', center_image_paths.shape)\n",
    "print('left_image_paths shape', left_image_paths.shape)\n",
    "print('right_image_paths shape', right_image_paths.shape)\n",
    "print('measurements shape', center_measurements.shape)"
   ]
  },
  {
   "cell_type": "code",
   "execution_count": 3,
   "metadata": {
    "collapsed": false
   },
   "outputs": [
    {
     "name": "stdout",
     "output_type": "stream",
     "text": [
      " center_images.shape (255, 160, 320, 3) \n",
      " right_images.shape (255, 160, 320, 3) \n",
      " left_images.shape (255, 160, 320, 3)\n"
     ]
    }
   ],
   "source": [
    "import cv2\n",
    "TRAINING_DATA_DIR = 'merged_data'\n",
    "\n",
    "def load_images(image_paths):\n",
    "    images = np.array(np.zeros(shape=(1, 160, 320, 3)), ndmin=4)\n",
    "    for path in image_paths:\n",
    "        full_path = os.path.join(TRAINING_DATA_DIR,path.strip())\n",
    "        if os.path.exists(full_path):\n",
    "            image = np.array(cv2.imread(full_path), ndmin=4)\n",
    "            images = np.vstack((images, image))\n",
    "        else:\n",
    "            print('Path:',full_path,\"does not exist\")\n",
    "    return images[1:]\n",
    "\n",
    "left_images = load_images(left_image_paths)\n",
    "right_images = load_images(right_image_paths)\n",
    "center_images = load_images(center_image_paths)\n",
    "print(' center_images.shape', center_images.shape, '\\n',\n",
    "     'right_images.shape', right_images.shape, '\\n',\n",
    "     'left_images.shape', left_images.shape)"
   ]
  },
  {
   "cell_type": "markdown",
   "metadata": {},
   "source": [
    "### Append Left and Right Camera Data"
   ]
  },
  {
   "cell_type": "code",
   "execution_count": 9,
   "metadata": {
    "collapsed": false
   },
   "outputs": [
    {
     "name": "stdout",
     "output_type": "stream",
     "text": [
      "X_train.shape (765, 160, 320, 3)\n",
      "Y_train.shape (765,)\n"
     ]
    }
   ],
   "source": [
    "# create adjusted steering measurements for the side camera images\n",
    "correction = 0.23 # tuned parameter\n",
    "center_measurements = center_measurements.astype('float32')\n",
    "\n",
    "left_measurements = center_measurements + correction\n",
    "right_measurements = center_measurements - correction\n",
    "\n",
    "X_train = np.vstack((center_images, left_images, right_images))\n",
    "Y_train = np.hstack((center_measurements, left_measurements, right_measurements))\n",
    "\n",
    "print('X_train.shape', X_train.shape)\n",
    "print('Y_train.shape', Y_train.shape)"
   ]
  },
  {
   "cell_type": "markdown",
   "metadata": {},
   "source": [
    "### Dataset - Preprocess the Data\n",
    "\n",
    "1. Shuffle the data\n",
    "2. Normalize the features using Min-Max scaling between -0.5 and 0.5\n",
    "3. Image Augmentation - Image Jittering"
   ]
  },
  {
   "cell_type": "code",
   "execution_count": 10,
   "metadata": {
    "collapsed": false
   },
   "outputs": [],
   "source": [
    "# TODO: Shuffle the data\n",
    "perm = np.arange(X_train.shape[0])\n",
    "np.random.shuffle(perm)\n",
    "X_train, Y_train = X_train[perm], Y_train[perm]"
   ]
  },
  {
   "cell_type": "code",
   "execution_count": 11,
   "metadata": {
    "collapsed": false
   },
   "outputs": [],
   "source": [
    "def normalize_grayscale(image_data):\n",
    "    \"\"\"\n",
    "    Normalize the image data with Min-Max scaling to a range of [-0.5,0.5]\n",
    "    :param image_data: The image data to be normalized\n",
    "    :return: Normalized image data\n",
    "    \"\"\"\n",
    "    a=-0.5\n",
    "    b=0.5\n",
    "    grayscale_min = 0.\n",
    "    grayscale_max = 255.\n",
    "    return a + (((image_data - grayscale_min)*(b-a))/(grayscale_max - grayscale_min))"
   ]
  },
  {
   "cell_type": "markdown",
   "metadata": {},
   "source": [
    "### Train the Network - Model"
   ]
  },
  {
   "cell_type": "code",
   "execution_count": 26,
   "metadata": {
    "collapsed": false
   },
   "outputs": [
    {
     "name": "stdout",
     "output_type": "stream",
     "text": [
      "____________________________________________________________________________________________________\n",
      "Layer (type)                     Output Shape          Param #     Connected to                     \n",
      "====================================================================================================\n",
      "input (InputLayer)               (None, 160, 320, 3)   0                                            \n",
      "____________________________________________________________________________________________________\n",
      "crop (Cropping2D)                (None, 70, 320, 3)    0           input[0][0]                      \n",
      "____________________________________________________________________________________________________\n",
      "lambda (Lambda)                  (None, 70, 320, 3)    0           crop[0][0]                       \n",
      "____________________________________________________________________________________________________\n",
      "conv_1 (Convolution2D)           (None, 18, 80, 16)    3088        lambda[0][0]                     \n",
      "____________________________________________________________________________________________________\n",
      "elu_1 (ELU)                      (None, 18, 80, 16)    0           conv_1[0][0]                     \n",
      "____________________________________________________________________________________________________\n",
      "conv_2 (Convolution2D)           (None, 9, 40, 32)     12832       elu_1[0][0]                      \n",
      "____________________________________________________________________________________________________\n",
      "elu_2 (ELU)                      (None, 9, 40, 32)     0           conv_2[0][0]                     \n",
      "____________________________________________________________________________________________________\n",
      "conv_3 (Convolution2D)           (None, 5, 20, 64)     51264       elu_2[0][0]                      \n",
      "____________________________________________________________________________________________________\n",
      "flatten (Flatten)                (None, 6400)          0           conv_3[0][0]                     \n",
      "____________________________________________________________________________________________________\n",
      "dropout_1 (Dropout)              (None, 6400)          0           flatten[0][0]                    \n",
      "____________________________________________________________________________________________________\n",
      "elu_3 (ELU)                      (None, 6400)          0           dropout_1[0][0]                  \n",
      "____________________________________________________________________________________________________\n",
      "fc_1 (Dense)                     (None, 512)           3277312     elu_3[0][0]                      \n",
      "____________________________________________________________________________________________________\n",
      "dropout_2 (Dropout)              (None, 512)           0           fc_1[0][0]                       \n",
      "____________________________________________________________________________________________________\n",
      "elu_4 (ELU)                      (None, 512)           0           dropout_2[0][0]                  \n",
      "____________________________________________________________________________________________________\n",
      "output (Dense)                   (None, 1)             513         elu_4[0][0]                      \n",
      "====================================================================================================\n",
      "Total params: 3345009\n",
      "____________________________________________________________________________________________________\n",
      "None\n",
      "Train on 595 samples, validate on 170 samples\n",
      "Epoch 1/10\n",
      "256/595 [===========>..................] - ETA: 8s - loss: 0.0440 - mean_squared_logarithmic_error: 0.0172 "
     ]
    },
    {
     "ename": "KeyboardInterrupt",
     "evalue": "",
     "output_type": "error",
     "traceback": [
      "\u001b[0;31m--------------------------------------------\u001b[0m",
      "\u001b[0;31mKeyboardInterrupt\u001b[0mTraceback (most recent call last)",
      "\u001b[0;32m<ipython-input-26-2f5aa6c07dac>\u001b[0m in \u001b[0;36m<module>\u001b[0;34m()\u001b[0m\n\u001b[1;32m     50\u001b[0m                             verbose=0, save_best_only=False, mode='auto')\n\u001b[1;32m     51\u001b[0m model.fit({'input':X_train,'output':Y_train}, batch_size=128,\n\u001b[0;32m---> 52\u001b[0;31m          nb_epoch=nb_epoch, validation_split=0.222, shuffle=True,callbacks=[callback1])\n\u001b[0m\u001b[1;32m     53\u001b[0m \u001b[0mmodel\u001b[0m\u001b[0;34m.\u001b[0m\u001b[0msave\u001b[0m\u001b[0;34m(\u001b[0m\u001b[0;34m'model.h5'\u001b[0m\u001b[0;34m)\u001b[0m\u001b[0;34m\u001b[0m\u001b[0m\n",
      "\u001b[0;32m/Users/deanmwebb/anaconda/envs/sdc_dev/lib/python3.5/site-packages/keras/legacy/models.py\u001b[0m in \u001b[0;36mfit\u001b[0;34m(self, data, batch_size, nb_epoch, verbose, callbacks, validation_split, validation_data, shuffle, class_weight, sample_weight, **kwargs)\u001b[0m\n\u001b[1;32m    436\u001b[0m                                       \u001b[0mshuffle\u001b[0m\u001b[0;34m=\u001b[0m\u001b[0mshuffle\u001b[0m\u001b[0;34m,\u001b[0m\u001b[0;34m\u001b[0m\u001b[0m\n\u001b[1;32m    437\u001b[0m                                       \u001b[0mclass_weight\u001b[0m\u001b[0;34m=\u001b[0m\u001b[0mclass_weight\u001b[0m\u001b[0;34m,\u001b[0m\u001b[0;34m\u001b[0m\u001b[0m\n\u001b[0;32m--> 438\u001b[0;31m                                       sample_weight=sample_weight)\n\u001b[0m\u001b[1;32m    439\u001b[0m \u001b[0;34m\u001b[0m\u001b[0m\n\u001b[1;32m    440\u001b[0m     def evaluate(self, data, batch_size=128,\n",
      "\u001b[0;32m/Users/deanmwebb/anaconda/envs/sdc_dev/lib/python3.5/site-packages/keras/engine/training.py\u001b[0m in \u001b[0;36mfit\u001b[0;34m(self, x, y, batch_size, nb_epoch, verbose, callbacks, validation_split, validation_data, shuffle, class_weight, sample_weight)\u001b[0m\n\u001b[1;32m   1104\u001b[0m                               \u001b[0mverbose\u001b[0m\u001b[0;34m=\u001b[0m\u001b[0mverbose\u001b[0m\u001b[0;34m,\u001b[0m \u001b[0mcallbacks\u001b[0m\u001b[0;34m=\u001b[0m\u001b[0mcallbacks\u001b[0m\u001b[0;34m,\u001b[0m\u001b[0;34m\u001b[0m\u001b[0m\n\u001b[1;32m   1105\u001b[0m                               \u001b[0mval_f\u001b[0m\u001b[0;34m=\u001b[0m\u001b[0mval_f\u001b[0m\u001b[0;34m,\u001b[0m \u001b[0mval_ins\u001b[0m\u001b[0;34m=\u001b[0m\u001b[0mval_ins\u001b[0m\u001b[0;34m,\u001b[0m \u001b[0mshuffle\u001b[0m\u001b[0;34m=\u001b[0m\u001b[0mshuffle\u001b[0m\u001b[0;34m,\u001b[0m\u001b[0;34m\u001b[0m\u001b[0m\n\u001b[0;32m-> 1106\u001b[0;31m                               callback_metrics=callback_metrics)\n\u001b[0m\u001b[1;32m   1107\u001b[0m \u001b[0;34m\u001b[0m\u001b[0m\n\u001b[1;32m   1108\u001b[0m     \u001b[0;32mdef\u001b[0m \u001b[0mevaluate\u001b[0m\u001b[0;34m(\u001b[0m\u001b[0mself\u001b[0m\u001b[0;34m,\u001b[0m \u001b[0mx\u001b[0m\u001b[0;34m,\u001b[0m \u001b[0my\u001b[0m\u001b[0;34m,\u001b[0m \u001b[0mbatch_size\u001b[0m\u001b[0;34m=\u001b[0m\u001b[0;36m32\u001b[0m\u001b[0;34m,\u001b[0m \u001b[0mverbose\u001b[0m\u001b[0;34m=\u001b[0m\u001b[0;36m1\u001b[0m\u001b[0;34m,\u001b[0m \u001b[0msample_weight\u001b[0m\u001b[0;34m=\u001b[0m\u001b[0;32mNone\u001b[0m\u001b[0;34m)\u001b[0m\u001b[0;34m:\u001b[0m\u001b[0;34m\u001b[0m\u001b[0m\n",
      "\u001b[0;32m/Users/deanmwebb/anaconda/envs/sdc_dev/lib/python3.5/site-packages/keras/engine/training.py\u001b[0m in \u001b[0;36m_fit_loop\u001b[0;34m(self, f, ins, out_labels, batch_size, nb_epoch, verbose, callbacks, val_f, val_ins, shuffle, callback_metrics)\u001b[0m\n\u001b[1;32m    822\u001b[0m                 \u001b[0mbatch_logs\u001b[0m\u001b[0;34m[\u001b[0m\u001b[0;34m'size'\u001b[0m\u001b[0;34m]\u001b[0m \u001b[0;34m=\u001b[0m \u001b[0mlen\u001b[0m\u001b[0;34m(\u001b[0m\u001b[0mbatch_ids\u001b[0m\u001b[0;34m)\u001b[0m\u001b[0;34m\u001b[0m\u001b[0m\n\u001b[1;32m    823\u001b[0m                 \u001b[0mcallbacks\u001b[0m\u001b[0;34m.\u001b[0m\u001b[0mon_batch_begin\u001b[0m\u001b[0;34m(\u001b[0m\u001b[0mbatch_index\u001b[0m\u001b[0;34m,\u001b[0m \u001b[0mbatch_logs\u001b[0m\u001b[0;34m)\u001b[0m\u001b[0;34m\u001b[0m\u001b[0m\n\u001b[0;32m--> 824\u001b[0;31m                 \u001b[0mouts\u001b[0m \u001b[0;34m=\u001b[0m \u001b[0mf\u001b[0m\u001b[0;34m(\u001b[0m\u001b[0mins_batch\u001b[0m\u001b[0;34m)\u001b[0m\u001b[0;34m\u001b[0m\u001b[0m\n\u001b[0m\u001b[1;32m    825\u001b[0m                 \u001b[0;32mif\u001b[0m \u001b[0mtype\u001b[0m\u001b[0;34m(\u001b[0m\u001b[0mouts\u001b[0m\u001b[0;34m)\u001b[0m \u001b[0;34m!=\u001b[0m \u001b[0mlist\u001b[0m\u001b[0;34m:\u001b[0m\u001b[0;34m\u001b[0m\u001b[0m\n\u001b[1;32m    826\u001b[0m                     \u001b[0mouts\u001b[0m \u001b[0;34m=\u001b[0m \u001b[0;34m[\u001b[0m\u001b[0mouts\u001b[0m\u001b[0;34m]\u001b[0m\u001b[0;34m\u001b[0m\u001b[0m\n",
      "\u001b[0;32m/Users/deanmwebb/anaconda/envs/sdc_dev/lib/python3.5/site-packages/keras/backend/tensorflow_backend.py\u001b[0m in \u001b[0;36m__call__\u001b[0;34m(self, inputs)\u001b[0m\n\u001b[1;32m   1011\u001b[0m             \u001b[0mfeed_dict\u001b[0m\u001b[0;34m[\u001b[0m\u001b[0mtensor\u001b[0m\u001b[0;34m]\u001b[0m \u001b[0;34m=\u001b[0m \u001b[0mvalue\u001b[0m\u001b[0;34m\u001b[0m\u001b[0m\n\u001b[1;32m   1012\u001b[0m         \u001b[0msession\u001b[0m \u001b[0;34m=\u001b[0m \u001b[0mget_session\u001b[0m\u001b[0;34m(\u001b[0m\u001b[0;34m)\u001b[0m\u001b[0;34m\u001b[0m\u001b[0m\n\u001b[0;32m-> 1013\u001b[0;31m         \u001b[0mupdated\u001b[0m \u001b[0;34m=\u001b[0m \u001b[0msession\u001b[0m\u001b[0;34m.\u001b[0m\u001b[0mrun\u001b[0m\u001b[0;34m(\u001b[0m\u001b[0mself\u001b[0m\u001b[0;34m.\u001b[0m\u001b[0moutputs\u001b[0m \u001b[0;34m+\u001b[0m \u001b[0;34m[\u001b[0m\u001b[0mself\u001b[0m\u001b[0;34m.\u001b[0m\u001b[0mupdates_op\u001b[0m\u001b[0;34m]\u001b[0m\u001b[0;34m,\u001b[0m \u001b[0mfeed_dict\u001b[0m\u001b[0;34m=\u001b[0m\u001b[0mfeed_dict\u001b[0m\u001b[0;34m)\u001b[0m\u001b[0;34m\u001b[0m\u001b[0m\n\u001b[0m\u001b[1;32m   1014\u001b[0m         \u001b[0;32mreturn\u001b[0m \u001b[0mupdated\u001b[0m\u001b[0;34m[\u001b[0m\u001b[0;34m:\u001b[0m\u001b[0mlen\u001b[0m\u001b[0;34m(\u001b[0m\u001b[0mself\u001b[0m\u001b[0;34m.\u001b[0m\u001b[0moutputs\u001b[0m\u001b[0;34m)\u001b[0m\u001b[0;34m]\u001b[0m\u001b[0;34m\u001b[0m\u001b[0m\n\u001b[1;32m   1015\u001b[0m \u001b[0;34m\u001b[0m\u001b[0m\n",
      "\u001b[0;32m/Users/deanmwebb/anaconda/envs/sdc_dev/lib/python3.5/site-packages/tensorflow/python/client/session.py\u001b[0m in \u001b[0;36mrun\u001b[0;34m(self, fetches, feed_dict, options, run_metadata)\u001b[0m\n\u001b[1;32m    764\u001b[0m     \u001b[0;32mtry\u001b[0m\u001b[0;34m:\u001b[0m\u001b[0;34m\u001b[0m\u001b[0m\n\u001b[1;32m    765\u001b[0m       result = self._run(None, fetches, feed_dict, options_ptr,\n\u001b[0;32m--> 766\u001b[0;31m                          run_metadata_ptr)\n\u001b[0m\u001b[1;32m    767\u001b[0m       \u001b[0;32mif\u001b[0m \u001b[0mrun_metadata\u001b[0m\u001b[0;34m:\u001b[0m\u001b[0;34m\u001b[0m\u001b[0m\n\u001b[1;32m    768\u001b[0m         \u001b[0mproto_data\u001b[0m \u001b[0;34m=\u001b[0m \u001b[0mtf_session\u001b[0m\u001b[0;34m.\u001b[0m\u001b[0mTF_GetBuffer\u001b[0m\u001b[0;34m(\u001b[0m\u001b[0mrun_metadata_ptr\u001b[0m\u001b[0;34m)\u001b[0m\u001b[0;34m\u001b[0m\u001b[0m\n",
      "\u001b[0;32m/Users/deanmwebb/anaconda/envs/sdc_dev/lib/python3.5/site-packages/tensorflow/python/client/session.py\u001b[0m in \u001b[0;36m_run\u001b[0;34m(self, handle, fetches, feed_dict, options, run_metadata)\u001b[0m\n\u001b[1;32m    962\u001b[0m     \u001b[0;32mif\u001b[0m \u001b[0mfinal_fetches\u001b[0m \u001b[0;32mor\u001b[0m \u001b[0mfinal_targets\u001b[0m\u001b[0;34m:\u001b[0m\u001b[0;34m\u001b[0m\u001b[0m\n\u001b[1;32m    963\u001b[0m       results = self._do_run(handle, final_targets, final_fetches,\n\u001b[0;32m--> 964\u001b[0;31m                              feed_dict_string, options, run_metadata)\n\u001b[0m\u001b[1;32m    965\u001b[0m     \u001b[0;32melse\u001b[0m\u001b[0;34m:\u001b[0m\u001b[0;34m\u001b[0m\u001b[0m\n\u001b[1;32m    966\u001b[0m       \u001b[0mresults\u001b[0m \u001b[0;34m=\u001b[0m \u001b[0;34m[\u001b[0m\u001b[0;34m]\u001b[0m\u001b[0;34m\u001b[0m\u001b[0m\n",
      "\u001b[0;32m/Users/deanmwebb/anaconda/envs/sdc_dev/lib/python3.5/site-packages/tensorflow/python/client/session.py\u001b[0m in \u001b[0;36m_do_run\u001b[0;34m(self, handle, target_list, fetch_list, feed_dict, options, run_metadata)\u001b[0m\n\u001b[1;32m   1012\u001b[0m     \u001b[0;32mif\u001b[0m \u001b[0mhandle\u001b[0m \u001b[0;32mis\u001b[0m \u001b[0;32mNone\u001b[0m\u001b[0;34m:\u001b[0m\u001b[0;34m\u001b[0m\u001b[0m\n\u001b[1;32m   1013\u001b[0m       return self._do_call(_run_fn, self._session, feed_dict, fetch_list,\n\u001b[0;32m-> 1014\u001b[0;31m                            target_list, options, run_metadata)\n\u001b[0m\u001b[1;32m   1015\u001b[0m     \u001b[0;32melse\u001b[0m\u001b[0;34m:\u001b[0m\u001b[0;34m\u001b[0m\u001b[0m\n\u001b[1;32m   1016\u001b[0m       return self._do_call(_prun_fn, self._session, handle, feed_dict,\n",
      "\u001b[0;32m/Users/deanmwebb/anaconda/envs/sdc_dev/lib/python3.5/site-packages/tensorflow/python/client/session.py\u001b[0m in \u001b[0;36m_do_call\u001b[0;34m(self, fn, *args)\u001b[0m\n\u001b[1;32m   1019\u001b[0m   \u001b[0;32mdef\u001b[0m \u001b[0m_do_call\u001b[0m\u001b[0;34m(\u001b[0m\u001b[0mself\u001b[0m\u001b[0;34m,\u001b[0m \u001b[0mfn\u001b[0m\u001b[0;34m,\u001b[0m \u001b[0;34m*\u001b[0m\u001b[0margs\u001b[0m\u001b[0;34m)\u001b[0m\u001b[0;34m:\u001b[0m\u001b[0;34m\u001b[0m\u001b[0m\n\u001b[1;32m   1020\u001b[0m     \u001b[0;32mtry\u001b[0m\u001b[0;34m:\u001b[0m\u001b[0;34m\u001b[0m\u001b[0m\n\u001b[0;32m-> 1021\u001b[0;31m       \u001b[0;32mreturn\u001b[0m \u001b[0mfn\u001b[0m\u001b[0;34m(\u001b[0m\u001b[0;34m*\u001b[0m\u001b[0margs\u001b[0m\u001b[0;34m)\u001b[0m\u001b[0;34m\u001b[0m\u001b[0m\n\u001b[0m\u001b[1;32m   1022\u001b[0m     \u001b[0;32mexcept\u001b[0m \u001b[0merrors\u001b[0m\u001b[0;34m.\u001b[0m\u001b[0mOpError\u001b[0m \u001b[0;32mas\u001b[0m \u001b[0me\u001b[0m\u001b[0;34m:\u001b[0m\u001b[0;34m\u001b[0m\u001b[0m\n\u001b[1;32m   1023\u001b[0m       \u001b[0mmessage\u001b[0m \u001b[0;34m=\u001b[0m \u001b[0mcompat\u001b[0m\u001b[0;34m.\u001b[0m\u001b[0mas_text\u001b[0m\u001b[0;34m(\u001b[0m\u001b[0me\u001b[0m\u001b[0;34m.\u001b[0m\u001b[0mmessage\u001b[0m\u001b[0;34m)\u001b[0m\u001b[0;34m\u001b[0m\u001b[0m\n",
      "\u001b[0;32m/Users/deanmwebb/anaconda/envs/sdc_dev/lib/python3.5/site-packages/tensorflow/python/client/session.py\u001b[0m in \u001b[0;36m_run_fn\u001b[0;34m(session, feed_dict, fetch_list, target_list, options, run_metadata)\u001b[0m\n\u001b[1;32m   1001\u001b[0m         return tf_session.TF_Run(session, options,\n\u001b[1;32m   1002\u001b[0m                                  \u001b[0mfeed_dict\u001b[0m\u001b[0;34m,\u001b[0m \u001b[0mfetch_list\u001b[0m\u001b[0;34m,\u001b[0m \u001b[0mtarget_list\u001b[0m\u001b[0;34m,\u001b[0m\u001b[0;34m\u001b[0m\u001b[0m\n\u001b[0;32m-> 1003\u001b[0;31m                                  status, run_metadata)\n\u001b[0m\u001b[1;32m   1004\u001b[0m \u001b[0;34m\u001b[0m\u001b[0m\n\u001b[1;32m   1005\u001b[0m     \u001b[0;32mdef\u001b[0m \u001b[0m_prun_fn\u001b[0m\u001b[0;34m(\u001b[0m\u001b[0msession\u001b[0m\u001b[0;34m,\u001b[0m \u001b[0mhandle\u001b[0m\u001b[0;34m,\u001b[0m \u001b[0mfeed_dict\u001b[0m\u001b[0;34m,\u001b[0m \u001b[0mfetch_list\u001b[0m\u001b[0;34m)\u001b[0m\u001b[0;34m:\u001b[0m\u001b[0;34m\u001b[0m\u001b[0m\n",
      "\u001b[0;31mKeyboardInterrupt\u001b[0m: "
     ]
    }
   ],
   "source": [
    "import tensorflow as tf\n",
    "tf.python.control_flow_ops = tf\n",
    "from keras.models import Graph\n",
    "from keras.layers.core import Flatten, Dense, Dropout, Activation, Lambda\n",
    "from keras.layers.convolutional import Convolution2D\n",
    "from keras.layers.normalization import BatchNormalization\n",
    "from keras.layers.advanced_activations import ELU\n",
    "from keras.optimizers import SGD, Adam\n",
    "import matplotlib.pyplot as plt\n",
    "from keras.layers import Cropping2D\n",
    "from keras.preprocessing.image import ImageDataGenerator\n",
    "from keras.utils import np_utils\n",
    "from keras.callbacks import ModelCheckpoint\n",
    "\n",
    "#Hyperparameters\n",
    "batch_size = 128\n",
    "nb_epoch = 10\n",
    "ch, row, col = 3, 160, 320  # camera format\n",
    "top_crop = 65\n",
    "bottom_crop = 25\n",
    "\n",
    "model = Graph()\n",
    "model.add_input(name='input',input_shape=(row,col,ch))\n",
    "model.add_node(Cropping2D(cropping=((top_crop,bottom_crop), (0,0))), name='crop', input='input')\n",
    "model.add_node(Lambda(lambda x: normalize_grayscale(x)), name='lambda', input='crop')\n",
    "model.add_node(Convolution2D(16, 8, 8, init='glorot_uniform',\n",
    "                             subsample=(4,4),border_mode='same'), name='conv_1', input='lambda')\n",
    "model.add_node(ELU(), input='conv_1', name='elu_1')\n",
    "model.add_node(Convolution2D(32, 5, 5, init='glorot_uniform',\n",
    "                             subsample=(2,2),border_mode='same'), name='conv_2', input='elu_1')\n",
    "model.add_node(ELU(), input='conv_2', name='elu_2')\n",
    "model.add_node(Convolution2D(64, 5, 5, init='glorot_uniform',\n",
    "                             subsample=(2,2),border_mode='same'), name='conv_3', input='elu_2')\n",
    "model.add_node(Flatten(),name='flatten',input='conv_3')\n",
    "model.add_node(Dropout(0.2),input='flatten',name='dropout_1')\n",
    "model.add_node(ELU(), input='dropout_1', name='elu_3')\n",
    "model.add_node(Dense(512),input='elu_3', name='fc_1')\n",
    "model.add_node(Dropout(0.5),input='fc_1',name='dropout_2')\n",
    "model.add_node(ELU(), input='dropout_2', name='elu_4')\n",
    "model.add_node(Dense(1, activation='tanh'),input='elu_4', name='fc_final')\n",
    "model.add_output(name='output',input='fc_final')\n",
    "\n",
    "adam = Adam(lr=0.0007, beta_1=0.9, beta_2=0.999, epsilon=1e-08)\n",
    "model.compile(loss={'output':'mse'},\n",
    "             optimizer=adam,\n",
    "             metrics={'output':'msle'})\n",
    "print(model.summary())\n",
    "\n",
    "callback1 = ModelCheckpoint('weights.{epoch:02d}-{val_loss:.2f}.hdf5', monitor='val_loss', \n",
    "                            verbose=0, save_best_only=False, mode='auto')\n",
    "model.fit({'input':X_train,'output':Y_train}, batch_size=batch_size,\n",
    "         nb_epoch=nb_epoch, validation_split=0.222, shuffle=True,callbacks=[callback1])\n",
    "model.save('model.h5')"
   ]
  },
  {
   "cell_type": "code",
   "execution_count": null,
   "metadata": {
    "collapsed": false
   },
   "outputs": [],
   "source": [
    "#Alternate Model\n",
    "\n",
    "import tensorflow as tf\n",
    "tf.python.control_flow_ops = tf\n",
    "from keras.layers import Cropping2D\n",
    "from keras.models import Graph, Sequential\n",
    "from keras.layers.core import Flatten, Dense, Dropout, Activation\n",
    "from keras.layers.convolutional import Convolution2D, MaxPooling2D, AveragePooling2D\n",
    "from keras.layers.pooling import GlobalAveragePooling2D\n",
    "from keras.layers.normalization import BatchNormalization\n",
    "from keras.optimizers import SGD, Adam\n",
    "import numpy as np\n",
    "import matplotlib.pyplot as plt\n",
    "from scipy.misc import imread, imresize, imsave\n",
    "import cv2\n",
    "import sys\n",
    "from keras.datasets import cifar10\n",
    "from keras.preprocessing.image import ImageDataGenerator\n",
    "from keras.utils import np_utils\n",
    "from keras.callbacks import ModelCheckpoint\n",
    "\n",
    "\n",
    "#Hyperparameters\n",
    "batch_size = 128\n",
    "nb_epoch = 10\n",
    "ch, row, col = 3, 160, 320  # camera format\n",
    "top_crop = 65\n",
    "bottom_crop = 25\n",
    "\n",
    "\n",
    "# Implementing SqueezeNet\n",
    "model = Graph()\n",
    "model.add_input(name='input',input_shape=(row,col,ch))\n",
    "model.add_node(Cropping2D(cropping=((top_crop,bottom_crop), (0,0))), name='crop', input='input')\n",
    "model.add_node(Lambda(lambda x: normalize_grayscale(x)), name='lambda', input='crop')\n",
    "\n",
    "#conv_1:\n",
    "model.add_node(Convolution2D(96, 3, 3, activation='relu', init='glorot_uniform',\n",
    "                             subsample=(2,2),border_mode='valid'),name='conv_1', input='lambda')\n",
    "\n",
    "#maxpool_1\n",
    "model.add_node(MaxPooling2D(pool_size=(3,3),strides=(2,2)),name='maxpool_1', input='conv_1')\n",
    "\n",
    "#fire module 1\n",
    "model.add_node(Convolution2D(16, 1, 1, activation='relu', init='glorot_uniform',border_mode='same'),name='fire2_squeeze', input='maxpool_1')\n",
    "model.add_node(Convolution2D(64, 1, 1, activation='relu', init='glorot_uniform',border_mode='same'),name='fire2_expand1', input='fire2_squeeze')\n",
    "model.add_node(Convolution2D(64, 3, 3, activation='relu', init='glorot_uniform',border_mode='same'),name='fire2_expand2', input='fire2_squeeze')\n",
    "model.add_node(Activation(\"linear\"),name='fire_2', inputs=[\"fire2_expand1\",\"fire2_expand2\"], merge_mode=\"concat\", concat_axis=1)\n",
    "\n",
    "#fire module 2\n",
    "model.add_node(Convolution2D(16, 1, 1, activation='relu', init='glorot_uniform',border_mode='same'),name='fire3_squeeze', input='fire_2')\n",
    "model.add_node(Convolution2D(64, 1, 1, activation='relu', init='glorot_uniform',border_mode='same'),name='fire3_expand1', input='fire3_squeeze')\n",
    "model.add_node(Convolution2D(64, 3, 3, activation='relu', init='glorot_uniform',border_mode='same'),name='fire3_expand2', input='fire3_squeeze')\n",
    "model.add_node(Activation(\"linear\"),name='fire_3', inputs=[\"fire3_expand1\",\"fire3_expand2\"], merge_mode=\"concat\", concat_axis=1)\n",
    "\n",
    "# # #fire module  3\n",
    "# model.add_node(Convolution2D(32, 1, 1, activation='relu', init='glorot_uniform',border_mode='same'),name='fire4_squeeze', input='fire_3')\n",
    "# model.add_node(Convolution2D(128, 1, 1, activation='relu', init='glorot_uniform',border_mode='same'),name='fire4_expand1', input='fire4_squeeze')\n",
    "# model.add_node(Convolution2D(128, 3, 3, activation='relu', init='glorot_uniform',border_mode='same'),name='fire4_expand2', input='fire4_squeeze')\n",
    "# model.add_node(Activation(\"linear\"),name='fire_4', inputs=[\"fire4_expand1\",\"fire4_expand2\"], merge_mode=\"concat\", concat_axis=1)\n",
    "\n",
    "# # maxpool 4\n",
    "# model.add_node(MaxPooling2D((2,2)),name='maxpool_4', input='fire_4')\n",
    "\n",
    "# # #fire module  5\n",
    "# model.add_node(Convolution2D(32, 1, 1, activation='relu', init='glorot_uniform',border_mode='same'),name='fire5_squeeze', input='maxpool_4')\n",
    "# model.add_node(Convolution2D(128, 1, 1, activation='relu', init='glorot_uniform',border_mode='same'),name='fire5_expand1', input='fire5_squeeze')\n",
    "# model.add_node(Convolution2D(128, 3, 3, activation='relu', init='glorot_uniform',border_mode='same'),name='fire5_expand2', input='fire5_squeeze')\n",
    "# model.add_node(Activation(\"linear\"),name='fire_5', inputs=[\"fire5_expand1\",\"fire5_expand2\"], merge_mode=\"concat\", concat_axis=1)\n",
    "\n",
    "# # #fire module 6\n",
    "# model.add_node(Convolution2D(48, 1, 1, activation='relu', init='glorot_uniform',border_mode='same'),name='fire6_squeeze', input='fire_5')\n",
    "# model.add_node(Convolution2D(192, 1, 1, activation='relu', init='glorot_uniform',border_mode='same'),name='fire6_expand1', input='fire6_squeeze')\n",
    "# model.add_node(Convolution2D(192, 3, 3, activation='relu', init='glorot_uniform',border_mode='same'),name='fire6_expand2', input='fire6_squeeze')\n",
    "# model.add_node(Activation(\"linear\"),name='fire_6', inputs=[\"fire6_expand1\",\"fire6_expand2\"], merge_mode=\"concat\", concat_axis=1)\n",
    "\n",
    "# # #fire module 7\n",
    "# model.add_node(Convolution2D(48, 1, 1, activation='relu', init='glorot_uniform',border_mode='same'),name='fire7_squeeze', input='fire_6')\n",
    "# model.add_node(Convolution2D(192, 1, 1, activation='relu', init='glorot_uniform',border_mode='same'),name='fire7_expand1', input='fire7_squeeze')\n",
    "# model.add_node(Convolution2D(192, 3, 3, activation='relu', init='glorot_uniform',border_mode='same'),name='fire7_expand2', input='fire7_squeeze')\n",
    "# model.add_node(Activation(\"linear\"),name='fire_7', inputs=[\"fire7_expand1\",\"fire7_expand2\"], merge_mode=\"concat\", concat_axis=1)\n",
    "\n",
    "# # #fire module 8\n",
    "# model.add_node(Convolution2D(64, 1, 1, activation='relu', init='glorot_uniform',border_mode='same'),name='fire8_squeeze', input='fire_7')\n",
    "# model.add_node(Convolution2D(256, 1, 1, activation='relu', init='glorot_uniform',border_mode='same'),name='fire8_expand1', input='fire8_squeeze')\n",
    "# model.add_node(Convolution2D(256, 3, 3, activation='relu', init='glorot_uniform',border_mode='same'),name='fire8_expand2', input='fire8_squeeze')\n",
    "# model.add_node(Activation(\"linear\"),name='fire_8', inputs=[\"fire8_expand1\",\"fire8_expand2\"], merge_mode=\"concat\", concat_axis=1)\n",
    "\n",
    "# #maxpool 8\n",
    "# model.add_node(MaxPooling2D((2,2)),name='maxpool_8', input='fire_8')\n",
    "\n",
    "# # #fire module 9\n",
    "# model.add_node(Convolution2D(64, 1, 1, activation='relu', init='glorot_uniform',border_mode='same'),name='fire9_squeeze', input='maxpool_8')\n",
    "# model.add_node(Convolution2D(256, 1, 1, activation='relu', init='glorot_uniform',border_mode='same'),name='fire9_expand1', input='fire9_squeeze')\n",
    "# model.add_node(Convolution2D(256, 3, 3, activation='relu', init='glorot_uniform',border_mode='same'),name='fire9_expand2', input='fire9_squeeze')\n",
    "# model.add_node(Activation(\"linear\"),name='fire_9', inputs=[\"fire9_expand1\",\"fire9_expand2\"], merge_mode=\"concat\", concat_axis=1)\n",
    "\n",
    "model.add_node(Dropout(0.5),input='fire_3',name='fire9_dropout')\n",
    "\n",
    "#conv_10\n",
    "model.add_node(Convolution2D(1, 1, 1, activation='relu', init='glorot_uniform',border_mode='valid'),\n",
    "               name='conv_10', input='fire9_dropout')\n",
    "\n",
    "#avgpool_10 - Global Average Pooling\n",
    "model.add_node(GlobalAveragePooling2D((13,13)),name='avgpool_10', input='conv_10')\n",
    "\n",
    "\n",
    "model.add_node(Flatten(),name='flatten',input='avgpool_10')\n",
    "model.add_node(Dense(1, activation='tanh'),input='flatten', name='fc_final')\n",
    "model.add_output(name='output',input='fc_final')\n",
    "\n",
    "sgd = SGD(lr=0.01, decay=1e-6, momentum=0.9, nesterov=True)\n",
    "adam = Adam(lr=0.001, beta_1=0.9, beta_2=0.999, epsilon=1e-08)\n",
    "model.compile(optimizer=\"adam\", loss=\"mse\")\n",
    "print(model.summary())\n",
    "\n",
    "callback1 = ModelCheckpoint('weights.{epoch:02d}-{val_loss:.2f}.hdf5', monitor='val_loss', \n",
    "                            verbose=0, save_best_only=False, mode='auto')\n",
    "model.fit({'input':X_train,'output':Y_train}, batch_size=batch_size,\n",
    "         nb_epoch=nb_epoch, validation_split=0.222, shuffle=True,callbacks=[callback1])"
   ]
  },
  {
   "cell_type": "code",
   "execution_count": null,
   "metadata": {
    "collapsed": true
   },
   "outputs": [],
   "source": []
  }
 ],
 "metadata": {
  "anaconda-cloud": {},
  "kernelspec": {
   "display_name": "Python [sdc_dev]",
   "language": "python",
   "name": "Python [sdc_dev]"
  },
  "language_info": {
   "codemirror_mode": {
    "name": "ipython",
    "version": 3
   },
   "file_extension": ".py",
   "mimetype": "text/x-python",
   "name": "python",
   "nbconvert_exporter": "python",
   "pygments_lexer": "ipython3",
   "version": "3.5.2"
  }
 },
 "nbformat": 4,
 "nbformat_minor": 0
}
